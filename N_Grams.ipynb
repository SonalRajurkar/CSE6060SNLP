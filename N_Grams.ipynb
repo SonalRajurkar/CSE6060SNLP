{
 "cells": [
  {
   "cell_type": "code",
   "execution_count": 2,
   "metadata": {},
   "outputs": [
    {
     "name": "stdout",
     "output_type": "stream",
     "text": [
      "['Four', 'score', 'and', 'seven', 'years', 'ago', 'our', 'fathers', 'brought', 'forth', 'on', 'this', 'continent', ',', 'a', 'new', 'nation', ',', 'conceived', 'in', 'Liberty', ',', 'and', 'dedicated', 'to', 'the', 'proposition', 'that', 'all', 'men', 'are', 'created', 'equal', '.', 'Now', 'we', 'are', 'engaged', 'in', 'a', 'great', 'civil', 'war', ',', 'testing', 'whether', 'that', 'nation', ',', 'or', 'any', 'nation', 'so', 'conceived', 'and', 'so', 'dedicated', ',', 'can', 'long', 'endure', '.', 'We', 'are', 'met', 'on', 'a', 'great', 'battle-field', 'of', 'that', 'war', '.', 'We', 'have', 'come', 'to', 'dedicate', 'a', 'portion', 'of', 'that', 'field', ',', 'as', 'a', 'final', 'resting', 'place', 'for', 'those', 'who', 'here', 'gave', 'their', 'lives', 'that', 'that', 'nation', 'might', 'live', '.', 'It', 'is', 'altogether', 'fitting', 'and', 'proper', 'that', 'we', 'should', 'do', 'this', '.', 'But', ',', 'in', 'a', 'larger', 'sense', ',', 'we', 'can', 'not', 'dedicate', '--', 'we', 'can', 'not', 'consecrate', '--', 'we', 'can', 'not', 'hallow', '--', 'this', 'ground', '.', 'The', 'brave', 'men', ',', 'living', 'and', 'dead', ',', 'who', 'struggled', 'here', ',', 'have', 'consecrated', 'it', ',', 'far', 'above', 'our', 'poor', 'power', 'to', 'add', 'or', 'detract', '.', 'The', 'world', 'will', 'little', 'note', ',', 'nor', 'long', 'remember', 'what', 'we', 'say', 'here', ',', 'but', 'it', 'can', 'never', 'forget', 'what', 'they', 'did', 'here', '.', 'It', 'is', 'for', 'us', 'the', 'living', ',', 'rather', ',', 'to', 'be', 'dedicated', 'here', 'to', 'the', 'unfinished', 'work', 'which', 'they', 'who', 'fought', 'here', 'have', 'thus', 'far', 'so', 'nobly', 'advanced', '.', 'It', 'is', 'rather', 'for', 'us', 'to', 'be', 'here', 'dedicated', 'to', 'the', 'great', 'task', 'remaining', 'before', 'us', '--', 'that', 'from', 'these', 'honored', 'dead', 'we', 'take', 'increased', 'devotion', 'to', 'that', 'cause', 'for', 'which', 'they', 'gave', 'the', 'last', 'full', 'measure', 'of', 'devotion', '--', 'that', 'we', 'here', 'highly', 'resolve', 'that', 'these', 'dead', 'shall', 'not', 'have', 'died', 'in', 'vain', '--', 'that', 'this', 'nation', ',', 'under', 'God', ',', 'shall', 'have', 'a', 'new', 'birth', 'of', 'freedom', '--', 'and', 'that', 'government', 'of', 'the', 'people', ',', 'by', 'the', 'people', ',', 'for', 'the', 'people', ',', 'shall', 'not', 'perish', 'from', 'the', 'earth', '.']\n",
      "['Four', 'score', 'seven', 'years', 'ago', 'fathers', 'brought', 'forth', 'continent', ',', 'new', 'nation', ',', 'conceived', 'Liberty', ',', 'dedicated', 'proposition', 'men', 'created', 'equal', '.', 'Now', 'engaged', 'great', 'civil', 'war', ',', 'testing', 'whether', 'nation', ',', 'nation', 'conceived', 'dedicated', ',', 'long', 'endure', '.', 'We', 'met', 'great', 'battle-field', 'war', '.', 'We', 'come', 'dedicate', 'portion', 'field', ',', 'final', 'resting', 'place', 'gave', 'lives', 'nation', 'might', 'live', '.', 'It', 'altogether', 'fitting', 'proper', '.', 'But', ',', 'larger', 'sense', ',', 'dedicate', '--', 'consecrate', '--', 'hallow', '--', 'ground', '.', 'The', 'brave', 'men', ',', 'living', 'dead', ',', 'struggled', ',', 'consecrated', ',', 'far', 'poor', 'power', 'add', 'detract', '.', 'The', 'world', 'little', 'note', ',', 'long', 'remember', 'say', ',', 'never', 'forget', '.', 'It', 'us', 'living', ',', 'rather', ',', 'dedicated', 'unfinished', 'work', 'fought', 'thus', 'far', 'nobly', 'advanced', '.', 'It', 'rather', 'us', 'dedicated', 'great', 'task', 'remaining', 'us', '--', 'honored', 'dead', 'take', 'increased', 'devotion', 'cause', 'gave', 'last', 'full', 'measure', 'devotion', '--', 'highly', 'resolve', 'dead', 'shall', 'died', 'vain', '--', 'nation', ',', 'God', ',', 'shall', 'new', 'birth', 'freedom', '--', 'government', 'people', ',', 'people', ',', 'people', ',', 'shall', 'perish', 'earth', '.']\n",
      "Count of text before removing stopwords: 310\n",
      "Count of text after removing stopwords: 170\n"
     ]
    }
   ],
   "source": [
    "from nltk.corpus import stopwords \n",
    "from nltk.tokenize import word_tokenize \n",
    "\n",
    "example_sent = \"\"\" Four score and seven years ago our fathers brought forth on this continent, a new nation, conceived in Liberty, and dedicated to the proposition that all men are created equal.\n",
    "\n",
    "Now we are engaged in a great civil war, testing whether that nation, or any nation so conceived and so dedicated, can long endure. We are met on a great battle-field of that war. We have come to dedicate a portion of that field, as a final resting place for those who here gave their lives that that nation might live. It is altogether fitting and proper that we should do this.\n",
    "\n",
    "But, in a larger sense, we can not dedicate -- we can not consecrate -- we can not hallow -- this ground. The brave men, living and dead, who struggled here, have consecrated it, far above our poor power to add or detract. The world will little note, nor long remember what we say here, but it can never forget what they did here. It is for us the living, rather, to be dedicated here to the unfinished work which they who fought here have thus far so nobly advanced. It is rather for us to be here dedicated to the great task remaining before us -- that from these honored dead we take increased devotion to that cause for which they gave the last full measure of devotion -- that we here highly resolve that these dead shall not have died in vain -- that this nation, under God, shall have a new birth of freedom -- and that government of the people, by the people, for the people, shall not perish from the earth.\"\"\"\n",
    "  \n",
    "stop_words = set(stopwords.words('english')) \n",
    "  \n",
    "word_tokens = word_tokenize(example_sent) \n",
    "  \n",
    "filtered_sentence = [w for w in word_tokens if not w in stop_words] \n",
    "  \n",
    "filtered_sentence = [] \n",
    "  \n",
    "for w in word_tokens: \n",
    "    if w not in stop_words: \n",
    "        filtered_sentence.append(w) \n",
    "print(word_tokens) \n",
    "print(filtered_sentence) \n",
    "\n"
   ]
  },
  {
   "cell_type": "code",
   "execution_count": 3,
   "metadata": {},
   "outputs": [
    {
     "name": "stdout",
     "output_type": "stream",
     "text": [
      "Count of text before removing stopwords: 310\n",
      "Count of text after removing stopwords: 170\n"
     ]
    }
   ],
   "source": [
    "print(\"Count of text before removing stopwords:\", len(word_tokens))\n",
    "print(\"Count of text after removing stopwords:\", len(filtered_sentence))"
   ]
  },
  {
   "cell_type": "code",
   "execution_count": 5,
   "metadata": {},
   "outputs": [
    {
     "name": "stdout",
     "output_type": "stream",
     "text": [
      "Four score, score seven, seven years, years ago, ago fathers, fathers brought, brought forth, forth continent, continent ,, , new, new nation, nation ,, , conceived, conceived Liberty, Liberty ,, , dedicated, dedicated proposition, proposition men, men created, created equal, equal ., . Now, Now engaged, engaged great, great civil, civil war, war ,, , testing, testing whether, whether nation, nation ,, , nation, nation conceived, conceived dedicated, dedicated ,, , long, long endure, endure ., . We, We met, met great, great battle-field, battle-field war, war ., . We, We come, come dedicate, dedicate portion, portion field, field ,, , final, final resting, resting place, place gave, gave lives, lives nation, nation might, might live, live ., . It, It altogether, altogether fitting, fitting proper, proper ., . But, But ,, , larger, larger sense, sense ,, , dedicate, dedicate --, -- consecrate, consecrate --, -- hallow, hallow --, -- ground, ground ., . The, The brave, brave men, men ,, , living, living dead, dead ,, , struggled, struggled ,, , consecrated, consecrated ,, , far, far poor, poor power, power add, add detract, detract ., . The, The world, world little, little note, note ,, , long, long remember, remember say, say ,, , never, never forget, forget ., . It, It us, us living, living ,, , rather, rather ,, , dedicated, dedicated unfinished, unfinished work, work fought, fought thus, thus far, far nobly, nobly advanced, advanced ., . It, It rather, rather us, us dedicated, dedicated great, great task, task remaining, remaining us, us --, -- honored, honored dead, dead take, take increased, increased devotion, devotion cause, cause gave, gave last, last full, full measure, measure devotion, devotion --, -- highly, highly resolve, resolve dead, dead shall, shall died, died vain, vain --, -- nation, nation ,, , God, God ,, , shall, shall new, new birth, birth freedom, freedom --, -- government, government people, people ,, , people, people ,, , people, people ,, , shall, shall perish, perish earth, earth .\n"
     ]
    }
   ],
   "source": [
    "import nltk\n",
    "bigrm = nltk.bigrams(filtered_sentence)\n",
    "print(*map(' '.join, bigrm), sep=', ')"
   ]
  },
  {
   "cell_type": "code",
   "execution_count": 10,
   "metadata": {},
   "outputs": [
    {
     "data": {
      "text/plain": [
       "[('.', 'It'),\n",
       " ('people', ','),\n",
       " ('Four', 'score'),\n",
       " ('Now', 'engaged'),\n",
       " ('add', 'detract'),\n",
       " ('ago', 'fathers'),\n",
       " ('altogether', 'fitting'),\n",
       " ('birth', 'freedom'),\n",
       " ('brought', 'forth'),\n",
       " ('created', 'equal'),\n",
       " ('died', 'vain'),\n",
       " ('fathers', 'brought'),\n",
       " ('final', 'resting'),\n",
       " ('fitting', 'proper'),\n",
       " ('forth', 'continent'),\n",
       " ('fought', 'thus'),\n",
       " ('full', 'measure'),\n",
       " ('highly', 'resolve'),\n",
       " ('larger', 'sense'),\n",
       " ('last', 'full')]"
      ]
     },
     "execution_count": 10,
     "metadata": {},
     "output_type": "execute_result"
    }
   ],
   "source": [
    "import nltk.collocations\n",
    "from nltk.collocations import BigramCollocationFinder \n",
    "from nltk.metrics import BigramAssocMeasures \n",
    "import collections\n",
    "biagram_collocation = BigramCollocationFinder.from_words(filtered_sentence) \n",
    "biagram_collocation.nbest(BigramAssocMeasures.likelihood_ratio, 20) "
   ]
  },
  {
   "cell_type": "code",
   "execution_count": null,
   "metadata": {},
   "outputs": [],
   "source": []
  }
 ],
 "metadata": {
  "kernelspec": {
   "display_name": "Python 3",
   "language": "python",
   "name": "python3"
  },
  "language_info": {
   "codemirror_mode": {
    "name": "ipython",
    "version": 3
   },
   "file_extension": ".py",
   "mimetype": "text/x-python",
   "name": "python",
   "nbconvert_exporter": "python",
   "pygments_lexer": "ipython3",
   "version": "3.7.3"
  }
 },
 "nbformat": 4,
 "nbformat_minor": 2
}
